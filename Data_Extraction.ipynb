{
  "nbformat": 4,
  "nbformat_minor": 0,
  "metadata": {
    "colab": {
      "provenance": []
    },
    "kernelspec": {
      "name": "python3",
      "display_name": "Python 3"
    },
    "language_info": {
      "name": "python"
    }
  },
  "cells": [
    {
      "cell_type": "code",
      "execution_count": 6,
      "metadata": {
        "id": "cr81jrfSoisF"
      },
      "outputs": [],
      "source": [
        "import pandas as pd\n",
        "import openpyxl\n",
        "\n",
        "def fetch_data_from_specific_cells(file_path, sheet_name, cell_positions):\n",
        "    try:\n",
        "        # Load the Excel workbook\n",
        "        workbook = openpyxl.load_workbook(file_path, data_only=True, read_only=True)\n",
        "\n",
        "        # Select the desired sheet\n",
        "        sheet = workbook[sheet_name]\n",
        "\n",
        "        # Fetch data from specific cells\n",
        "        cell_data = {}\n",
        "        for cell, position in cell_positions.items():\n",
        "            cell_value = sheet[position].value\n",
        "            cell_data[cell] = cell_value\n",
        "\n",
        "\n",
        "        # Return the data if you want to further manipulate it in your script\n",
        "        return cell_data\n",
        "\n",
        "    except Exception as e:\n",
        "        print(f\"Error: {e}\")\n",
        "\n",
        "# Replace 'your_file.xlsm' with the path to your Excel file, 'Sheet1' with the sheet name,\n",
        "# and specify the cells and their corresponding positions in the dictionary\n",
        "file_path = 'test.xlsm'\n",
        "sheet_name = 'Master Sheet'\n",
        "cell_positions = {'Cell1': 'F60', 'Cell2': 'F55', 'Cell3': 'F34'}\n",
        "\n"
      ]
    },
    {
      "cell_type": "code",
      "source": [
        "from flask import Flask, jsonify\n",
        "\n",
        "app = Flask(__name__)\n",
        "\n",
        "@app.route('/')\n",
        "def get_data():\n",
        "    data = fetch_data_from_specific_cells(file_path, sheet_name, cell_positions)\n",
        "    print(data)\n",
        "    return jsonify(data)\n",
        "\n",
        "if __name__ == '__main__':\n",
        "    app.run(debug=True)\n"
      ],
      "metadata": {
        "colab": {
          "base_uri": "https://localhost:8080/"
        },
        "id": "iMbcRPoG0WWT",
        "outputId": "0cd6efa8-bfcf-45d3-b447-e0cea05937d0"
      },
      "execution_count": 8,
      "outputs": [
        {
          "output_type": "stream",
          "name": "stdout",
          "text": [
            " * Serving Flask app '__main__'\n",
            " * Debug mode: on\n"
          ]
        },
        {
          "output_type": "stream",
          "name": "stderr",
          "text": [
            "INFO:werkzeug:\u001b[31m\u001b[1mWARNING: This is a development server. Do not use it in a production deployment. Use a production WSGI server instead.\u001b[0m\n",
            " * Running on http://127.0.0.1:5000\n",
            "INFO:werkzeug:\u001b[33mPress CTRL+C to quit\u001b[0m\n",
            "INFO:werkzeug: * Restarting with stat\n"
          ]
        }
      ]
    }
  ]
}